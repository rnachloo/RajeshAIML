{
 "cells": [
  {
   "cell_type": "code",
   "execution_count": 2,
   "id": "70601153",
   "metadata": {},
   "outputs": [],
   "source": [
    "import numpy as np\n",
    "import pandas as pd\n",
    "import matplotlib.pyplot as plt\n",
    "\n",
    "from sklearn.preprocessing import StandardScaler\n",
    "from sklearn.model_selection import train_test_split, GridSearchCV\n",
    "from sklearn.pipeline import Pipeline\n",
    "from sklearn.metrics import mean_squared_error, accuracy_score\n",
    "from sklearn.linear_model import LogisticRegression\n",
    "from sklearn.tree import DecisionTreeClassifier\n",
    "from sklearn.feature_selection import SelectFromModel\n",
    "from sklearn.neighbors import KNeighborsClassifier\n",
    "from sklearn.svm import SVC\n",
    "from sklearn.dummy import DummyClassifier\n",
    "from sklearn.decomposition import PCA\n",
    "\n",
    "from sklearn.metrics import confusion_matrix, roc_curve, precision_recall_curve, ConfusionMatrixDisplay, RocCurveDisplay, PrecisionRecallDisplay"
   ]
  },
  {
   "cell_type": "code",
   "execution_count": 3,
   "id": "bf7991a2",
   "metadata": {},
   "outputs": [],
   "source": [
    "#load Bank additional full file for analysis\n",
    "data = pd.read_csv(\"C:/Users/fz8fd2/Downloads/test/Projects/Bank project/bank-additional/bank-additional-full_raj.csv\")"
   ]
  },
  {
   "cell_type": "code",
   "execution_count": 4,
   "id": "5d6f9e2a",
   "metadata": {},
   "outputs": [
    {
     "data": {
      "text/html": [
       "<div>\n",
       "<style scoped>\n",
       "    .dataframe tbody tr th:only-of-type {\n",
       "        vertical-align: middle;\n",
       "    }\n",
       "\n",
       "    .dataframe tbody tr th {\n",
       "        vertical-align: top;\n",
       "    }\n",
       "\n",
       "    .dataframe thead th {\n",
       "        text-align: right;\n",
       "    }\n",
       "</style>\n",
       "<table border=\"1\" class=\"dataframe\">\n",
       "  <thead>\n",
       "    <tr style=\"text-align: right;\">\n",
       "      <th></th>\n",
       "      <th>age</th>\n",
       "      <th>job</th>\n",
       "      <th>marital</th>\n",
       "      <th>education</th>\n",
       "      <th>default</th>\n",
       "      <th>housing</th>\n",
       "      <th>loan</th>\n",
       "      <th>contact</th>\n",
       "      <th>month</th>\n",
       "      <th>day_of_week</th>\n",
       "      <th>...</th>\n",
       "      <th>campaign</th>\n",
       "      <th>pdays</th>\n",
       "      <th>previous</th>\n",
       "      <th>poutcome</th>\n",
       "      <th>emp.var.rate</th>\n",
       "      <th>cons.price.idx</th>\n",
       "      <th>cons.conf.idx</th>\n",
       "      <th>euribor3m</th>\n",
       "      <th>nr.employed</th>\n",
       "      <th>y</th>\n",
       "    </tr>\n",
       "  </thead>\n",
       "  <tbody>\n",
       "    <tr>\n",
       "      <th>0</th>\n",
       "      <td>56</td>\n",
       "      <td>housemaid</td>\n",
       "      <td>married</td>\n",
       "      <td>basic.4y</td>\n",
       "      <td>no</td>\n",
       "      <td>no</td>\n",
       "      <td>no</td>\n",
       "      <td>telephone</td>\n",
       "      <td>may</td>\n",
       "      <td>mon</td>\n",
       "      <td>...</td>\n",
       "      <td>1</td>\n",
       "      <td>999</td>\n",
       "      <td>0</td>\n",
       "      <td>nonexistent</td>\n",
       "      <td>1.1</td>\n",
       "      <td>93.994</td>\n",
       "      <td>-36.4</td>\n",
       "      <td>4.857</td>\n",
       "      <td>5191.0</td>\n",
       "      <td>no</td>\n",
       "    </tr>\n",
       "    <tr>\n",
       "      <th>1</th>\n",
       "      <td>57</td>\n",
       "      <td>services</td>\n",
       "      <td>married</td>\n",
       "      <td>high.school</td>\n",
       "      <td>unknown</td>\n",
       "      <td>no</td>\n",
       "      <td>no</td>\n",
       "      <td>telephone</td>\n",
       "      <td>may</td>\n",
       "      <td>mon</td>\n",
       "      <td>...</td>\n",
       "      <td>1</td>\n",
       "      <td>999</td>\n",
       "      <td>0</td>\n",
       "      <td>nonexistent</td>\n",
       "      <td>1.1</td>\n",
       "      <td>93.994</td>\n",
       "      <td>-36.4</td>\n",
       "      <td>4.857</td>\n",
       "      <td>5191.0</td>\n",
       "      <td>no</td>\n",
       "    </tr>\n",
       "    <tr>\n",
       "      <th>2</th>\n",
       "      <td>37</td>\n",
       "      <td>services</td>\n",
       "      <td>married</td>\n",
       "      <td>high.school</td>\n",
       "      <td>no</td>\n",
       "      <td>yes</td>\n",
       "      <td>no</td>\n",
       "      <td>telephone</td>\n",
       "      <td>may</td>\n",
       "      <td>mon</td>\n",
       "      <td>...</td>\n",
       "      <td>1</td>\n",
       "      <td>999</td>\n",
       "      <td>0</td>\n",
       "      <td>nonexistent</td>\n",
       "      <td>1.1</td>\n",
       "      <td>93.994</td>\n",
       "      <td>-36.4</td>\n",
       "      <td>4.857</td>\n",
       "      <td>5191.0</td>\n",
       "      <td>no</td>\n",
       "    </tr>\n",
       "    <tr>\n",
       "      <th>3</th>\n",
       "      <td>40</td>\n",
       "      <td>admin.</td>\n",
       "      <td>married</td>\n",
       "      <td>basic.6y</td>\n",
       "      <td>no</td>\n",
       "      <td>no</td>\n",
       "      <td>no</td>\n",
       "      <td>telephone</td>\n",
       "      <td>may</td>\n",
       "      <td>mon</td>\n",
       "      <td>...</td>\n",
       "      <td>1</td>\n",
       "      <td>999</td>\n",
       "      <td>0</td>\n",
       "      <td>nonexistent</td>\n",
       "      <td>1.1</td>\n",
       "      <td>93.994</td>\n",
       "      <td>-36.4</td>\n",
       "      <td>4.857</td>\n",
       "      <td>5191.0</td>\n",
       "      <td>no</td>\n",
       "    </tr>\n",
       "    <tr>\n",
       "      <th>4</th>\n",
       "      <td>56</td>\n",
       "      <td>services</td>\n",
       "      <td>married</td>\n",
       "      <td>high.school</td>\n",
       "      <td>no</td>\n",
       "      <td>no</td>\n",
       "      <td>yes</td>\n",
       "      <td>telephone</td>\n",
       "      <td>may</td>\n",
       "      <td>mon</td>\n",
       "      <td>...</td>\n",
       "      <td>1</td>\n",
       "      <td>999</td>\n",
       "      <td>0</td>\n",
       "      <td>nonexistent</td>\n",
       "      <td>1.1</td>\n",
       "      <td>93.994</td>\n",
       "      <td>-36.4</td>\n",
       "      <td>4.857</td>\n",
       "      <td>5191.0</td>\n",
       "      <td>no</td>\n",
       "    </tr>\n",
       "    <tr>\n",
       "      <th>...</th>\n",
       "      <td>...</td>\n",
       "      <td>...</td>\n",
       "      <td>...</td>\n",
       "      <td>...</td>\n",
       "      <td>...</td>\n",
       "      <td>...</td>\n",
       "      <td>...</td>\n",
       "      <td>...</td>\n",
       "      <td>...</td>\n",
       "      <td>...</td>\n",
       "      <td>...</td>\n",
       "      <td>...</td>\n",
       "      <td>...</td>\n",
       "      <td>...</td>\n",
       "      <td>...</td>\n",
       "      <td>...</td>\n",
       "      <td>...</td>\n",
       "      <td>...</td>\n",
       "      <td>...</td>\n",
       "      <td>...</td>\n",
       "      <td>...</td>\n",
       "    </tr>\n",
       "    <tr>\n",
       "      <th>41183</th>\n",
       "      <td>73</td>\n",
       "      <td>retired</td>\n",
       "      <td>married</td>\n",
       "      <td>professional.course</td>\n",
       "      <td>no</td>\n",
       "      <td>yes</td>\n",
       "      <td>no</td>\n",
       "      <td>cellular</td>\n",
       "      <td>nov</td>\n",
       "      <td>fri</td>\n",
       "      <td>...</td>\n",
       "      <td>1</td>\n",
       "      <td>999</td>\n",
       "      <td>0</td>\n",
       "      <td>nonexistent</td>\n",
       "      <td>-1.1</td>\n",
       "      <td>94.767</td>\n",
       "      <td>-50.8</td>\n",
       "      <td>1.028</td>\n",
       "      <td>4963.6</td>\n",
       "      <td>yes</td>\n",
       "    </tr>\n",
       "    <tr>\n",
       "      <th>41184</th>\n",
       "      <td>46</td>\n",
       "      <td>blue-collar</td>\n",
       "      <td>married</td>\n",
       "      <td>professional.course</td>\n",
       "      <td>no</td>\n",
       "      <td>no</td>\n",
       "      <td>no</td>\n",
       "      <td>cellular</td>\n",
       "      <td>nov</td>\n",
       "      <td>fri</td>\n",
       "      <td>...</td>\n",
       "      <td>1</td>\n",
       "      <td>999</td>\n",
       "      <td>0</td>\n",
       "      <td>nonexistent</td>\n",
       "      <td>-1.1</td>\n",
       "      <td>94.767</td>\n",
       "      <td>-50.8</td>\n",
       "      <td>1.028</td>\n",
       "      <td>4963.6</td>\n",
       "      <td>no</td>\n",
       "    </tr>\n",
       "    <tr>\n",
       "      <th>41185</th>\n",
       "      <td>56</td>\n",
       "      <td>retired</td>\n",
       "      <td>married</td>\n",
       "      <td>university.degree</td>\n",
       "      <td>no</td>\n",
       "      <td>yes</td>\n",
       "      <td>no</td>\n",
       "      <td>cellular</td>\n",
       "      <td>nov</td>\n",
       "      <td>fri</td>\n",
       "      <td>...</td>\n",
       "      <td>2</td>\n",
       "      <td>999</td>\n",
       "      <td>0</td>\n",
       "      <td>nonexistent</td>\n",
       "      <td>-1.1</td>\n",
       "      <td>94.767</td>\n",
       "      <td>-50.8</td>\n",
       "      <td>1.028</td>\n",
       "      <td>4963.6</td>\n",
       "      <td>no</td>\n",
       "    </tr>\n",
       "    <tr>\n",
       "      <th>41186</th>\n",
       "      <td>44</td>\n",
       "      <td>technician</td>\n",
       "      <td>married</td>\n",
       "      <td>professional.course</td>\n",
       "      <td>no</td>\n",
       "      <td>no</td>\n",
       "      <td>no</td>\n",
       "      <td>cellular</td>\n",
       "      <td>nov</td>\n",
       "      <td>fri</td>\n",
       "      <td>...</td>\n",
       "      <td>1</td>\n",
       "      <td>999</td>\n",
       "      <td>0</td>\n",
       "      <td>nonexistent</td>\n",
       "      <td>-1.1</td>\n",
       "      <td>94.767</td>\n",
       "      <td>-50.8</td>\n",
       "      <td>1.028</td>\n",
       "      <td>4963.6</td>\n",
       "      <td>yes</td>\n",
       "    </tr>\n",
       "    <tr>\n",
       "      <th>41187</th>\n",
       "      <td>74</td>\n",
       "      <td>retired</td>\n",
       "      <td>married</td>\n",
       "      <td>professional.course</td>\n",
       "      <td>no</td>\n",
       "      <td>yes</td>\n",
       "      <td>no</td>\n",
       "      <td>cellular</td>\n",
       "      <td>nov</td>\n",
       "      <td>fri</td>\n",
       "      <td>...</td>\n",
       "      <td>3</td>\n",
       "      <td>999</td>\n",
       "      <td>1</td>\n",
       "      <td>failure</td>\n",
       "      <td>-1.1</td>\n",
       "      <td>94.767</td>\n",
       "      <td>-50.8</td>\n",
       "      <td>1.028</td>\n",
       "      <td>4963.6</td>\n",
       "      <td>no</td>\n",
       "    </tr>\n",
       "  </tbody>\n",
       "</table>\n",
       "<p>41188 rows × 21 columns</p>\n",
       "</div>"
      ],
      "text/plain": [
       "       age          job  marital            education  default housing loan  \\\n",
       "0       56    housemaid  married             basic.4y       no      no   no   \n",
       "1       57     services  married          high.school  unknown      no   no   \n",
       "2       37     services  married          high.school       no     yes   no   \n",
       "3       40       admin.  married             basic.6y       no      no   no   \n",
       "4       56     services  married          high.school       no      no  yes   \n",
       "...    ...          ...      ...                  ...      ...     ...  ...   \n",
       "41183   73      retired  married  professional.course       no     yes   no   \n",
       "41184   46  blue-collar  married  professional.course       no      no   no   \n",
       "41185   56      retired  married    university.degree       no     yes   no   \n",
       "41186   44   technician  married  professional.course       no      no   no   \n",
       "41187   74      retired  married  professional.course       no     yes   no   \n",
       "\n",
       "         contact month day_of_week  ...  campaign  pdays  previous  \\\n",
       "0      telephone   may         mon  ...         1    999         0   \n",
       "1      telephone   may         mon  ...         1    999         0   \n",
       "2      telephone   may         mon  ...         1    999         0   \n",
       "3      telephone   may         mon  ...         1    999         0   \n",
       "4      telephone   may         mon  ...         1    999         0   \n",
       "...          ...   ...         ...  ...       ...    ...       ...   \n",
       "41183   cellular   nov         fri  ...         1    999         0   \n",
       "41184   cellular   nov         fri  ...         1    999         0   \n",
       "41185   cellular   nov         fri  ...         2    999         0   \n",
       "41186   cellular   nov         fri  ...         1    999         0   \n",
       "41187   cellular   nov         fri  ...         3    999         1   \n",
       "\n",
       "          poutcome emp.var.rate  cons.price.idx  cons.conf.idx  euribor3m  \\\n",
       "0      nonexistent          1.1          93.994          -36.4      4.857   \n",
       "1      nonexistent          1.1          93.994          -36.4      4.857   \n",
       "2      nonexistent          1.1          93.994          -36.4      4.857   \n",
       "3      nonexistent          1.1          93.994          -36.4      4.857   \n",
       "4      nonexistent          1.1          93.994          -36.4      4.857   \n",
       "...            ...          ...             ...            ...        ...   \n",
       "41183  nonexistent         -1.1          94.767          -50.8      1.028   \n",
       "41184  nonexistent         -1.1          94.767          -50.8      1.028   \n",
       "41185  nonexistent         -1.1          94.767          -50.8      1.028   \n",
       "41186  nonexistent         -1.1          94.767          -50.8      1.028   \n",
       "41187      failure         -1.1          94.767          -50.8      1.028   \n",
       "\n",
       "       nr.employed    y  \n",
       "0           5191.0   no  \n",
       "1           5191.0   no  \n",
       "2           5191.0   no  \n",
       "3           5191.0   no  \n",
       "4           5191.0   no  \n",
       "...            ...  ...  \n",
       "41183       4963.6  yes  \n",
       "41184       4963.6   no  \n",
       "41185       4963.6   no  \n",
       "41186       4963.6  yes  \n",
       "41187       4963.6   no  \n",
       "\n",
       "[41188 rows x 21 columns]"
      ]
     },
     "execution_count": 4,
     "metadata": {},
     "output_type": "execute_result"
    }
   ],
   "source": [
    "data"
   ]
  },
  {
   "cell_type": "code",
   "execution_count": 5,
   "id": "026f5681",
   "metadata": {},
   "outputs": [
    {
     "data": {
      "text/plain": [
       "age                  0\n",
       "job                330\n",
       "marital             80\n",
       "education         1731\n",
       "default           8597\n",
       "housing            990\n",
       "loan               990\n",
       "contact              0\n",
       "month                0\n",
       "day_of_week          0\n",
       "duration             0\n",
       "campaign             0\n",
       "pdays                0\n",
       "previous             0\n",
       "poutcome             0\n",
       "emp.var.rate         0\n",
       "cons.price.idx       0\n",
       "cons.conf.idx        0\n",
       "euribor3m            0\n",
       "nr.employed          0\n",
       "y                    0\n",
       "dtype: int64"
      ]
     },
     "execution_count": 5,
     "metadata": {},
     "output_type": "execute_result"
    }
   ],
   "source": [
    "data[data == 'unknown'].count()"
   ]
  },
  {
   "cell_type": "code",
   "execution_count": 6,
   "id": "daf4d0b6",
   "metadata": {},
   "outputs": [
    {
     "data": {
      "text/plain": [
       "age                 int64\n",
       "job                object\n",
       "marital            object\n",
       "education          object\n",
       "default            object\n",
       "housing            object\n",
       "loan               object\n",
       "contact            object\n",
       "month              object\n",
       "day_of_week        object\n",
       "duration            int64\n",
       "campaign            int64\n",
       "pdays               int64\n",
       "previous            int64\n",
       "poutcome           object\n",
       "emp.var.rate      float64\n",
       "cons.price.idx    float64\n",
       "cons.conf.idx     float64\n",
       "euribor3m         float64\n",
       "nr.employed       float64\n",
       "y                  object\n",
       "dtype: object"
      ]
     },
     "execution_count": 6,
     "metadata": {},
     "output_type": "execute_result"
    }
   ],
   "source": [
    "data.dtypes"
   ]
  },
  {
   "cell_type": "code",
   "execution_count": 7,
   "id": "ecda3825",
   "metadata": {},
   "outputs": [],
   "source": [
    "#convert marital status from categorical to numeric variable. As there are only 80 observations with unknown marital \n",
    "#status, we will remove those data points. Then use one hot encoder to change the categorical marital status to numeric\n",
    "\n",
    "data = data[data[\"marital\"].str.contains(\"unknown\")==False]\n",
    "\n",
    "df_temp = pd.get_dummies(data['marital'])\n",
    "\n",
    "data = pd.concat([data, df_temp], axis = 1)\n",
    "data = data.drop(['marital'], axis=1)"
   ]
  },
  {
   "cell_type": "code",
   "execution_count": 8,
   "id": "7561b43b",
   "metadata": {},
   "outputs": [
    {
     "data": {
      "text/html": [
       "<div>\n",
       "<style scoped>\n",
       "    .dataframe tbody tr th:only-of-type {\n",
       "        vertical-align: middle;\n",
       "    }\n",
       "\n",
       "    .dataframe tbody tr th {\n",
       "        vertical-align: top;\n",
       "    }\n",
       "\n",
       "    .dataframe thead th {\n",
       "        text-align: right;\n",
       "    }\n",
       "</style>\n",
       "<table border=\"1\" class=\"dataframe\">\n",
       "  <thead>\n",
       "    <tr style=\"text-align: right;\">\n",
       "      <th></th>\n",
       "      <th>age</th>\n",
       "      <th>job</th>\n",
       "      <th>education</th>\n",
       "      <th>default</th>\n",
       "      <th>housing</th>\n",
       "      <th>loan</th>\n",
       "      <th>contact</th>\n",
       "      <th>month</th>\n",
       "      <th>day_of_week</th>\n",
       "      <th>duration</th>\n",
       "      <th>...</th>\n",
       "      <th>poutcome</th>\n",
       "      <th>emp.var.rate</th>\n",
       "      <th>cons.price.idx</th>\n",
       "      <th>cons.conf.idx</th>\n",
       "      <th>euribor3m</th>\n",
       "      <th>nr.employed</th>\n",
       "      <th>y</th>\n",
       "      <th>divorced</th>\n",
       "      <th>married</th>\n",
       "      <th>single</th>\n",
       "    </tr>\n",
       "  </thead>\n",
       "  <tbody>\n",
       "    <tr>\n",
       "      <th>0</th>\n",
       "      <td>56</td>\n",
       "      <td>housemaid</td>\n",
       "      <td>basic.4y</td>\n",
       "      <td>no</td>\n",
       "      <td>no</td>\n",
       "      <td>no</td>\n",
       "      <td>telephone</td>\n",
       "      <td>may</td>\n",
       "      <td>mon</td>\n",
       "      <td>261</td>\n",
       "      <td>...</td>\n",
       "      <td>nonexistent</td>\n",
       "      <td>1.1</td>\n",
       "      <td>93.994</td>\n",
       "      <td>-36.4</td>\n",
       "      <td>4.857</td>\n",
       "      <td>5191.0</td>\n",
       "      <td>no</td>\n",
       "      <td>0</td>\n",
       "      <td>1</td>\n",
       "      <td>0</td>\n",
       "    </tr>\n",
       "    <tr>\n",
       "      <th>1</th>\n",
       "      <td>57</td>\n",
       "      <td>services</td>\n",
       "      <td>high.school</td>\n",
       "      <td>unknown</td>\n",
       "      <td>no</td>\n",
       "      <td>no</td>\n",
       "      <td>telephone</td>\n",
       "      <td>may</td>\n",
       "      <td>mon</td>\n",
       "      <td>149</td>\n",
       "      <td>...</td>\n",
       "      <td>nonexistent</td>\n",
       "      <td>1.1</td>\n",
       "      <td>93.994</td>\n",
       "      <td>-36.4</td>\n",
       "      <td>4.857</td>\n",
       "      <td>5191.0</td>\n",
       "      <td>no</td>\n",
       "      <td>0</td>\n",
       "      <td>1</td>\n",
       "      <td>0</td>\n",
       "    </tr>\n",
       "    <tr>\n",
       "      <th>2</th>\n",
       "      <td>37</td>\n",
       "      <td>services</td>\n",
       "      <td>high.school</td>\n",
       "      <td>no</td>\n",
       "      <td>yes</td>\n",
       "      <td>no</td>\n",
       "      <td>telephone</td>\n",
       "      <td>may</td>\n",
       "      <td>mon</td>\n",
       "      <td>226</td>\n",
       "      <td>...</td>\n",
       "      <td>nonexistent</td>\n",
       "      <td>1.1</td>\n",
       "      <td>93.994</td>\n",
       "      <td>-36.4</td>\n",
       "      <td>4.857</td>\n",
       "      <td>5191.0</td>\n",
       "      <td>no</td>\n",
       "      <td>0</td>\n",
       "      <td>1</td>\n",
       "      <td>0</td>\n",
       "    </tr>\n",
       "    <tr>\n",
       "      <th>3</th>\n",
       "      <td>40</td>\n",
       "      <td>admin.</td>\n",
       "      <td>basic.6y</td>\n",
       "      <td>no</td>\n",
       "      <td>no</td>\n",
       "      <td>no</td>\n",
       "      <td>telephone</td>\n",
       "      <td>may</td>\n",
       "      <td>mon</td>\n",
       "      <td>151</td>\n",
       "      <td>...</td>\n",
       "      <td>nonexistent</td>\n",
       "      <td>1.1</td>\n",
       "      <td>93.994</td>\n",
       "      <td>-36.4</td>\n",
       "      <td>4.857</td>\n",
       "      <td>5191.0</td>\n",
       "      <td>no</td>\n",
       "      <td>0</td>\n",
       "      <td>1</td>\n",
       "      <td>0</td>\n",
       "    </tr>\n",
       "    <tr>\n",
       "      <th>4</th>\n",
       "      <td>56</td>\n",
       "      <td>services</td>\n",
       "      <td>high.school</td>\n",
       "      <td>no</td>\n",
       "      <td>no</td>\n",
       "      <td>yes</td>\n",
       "      <td>telephone</td>\n",
       "      <td>may</td>\n",
       "      <td>mon</td>\n",
       "      <td>307</td>\n",
       "      <td>...</td>\n",
       "      <td>nonexistent</td>\n",
       "      <td>1.1</td>\n",
       "      <td>93.994</td>\n",
       "      <td>-36.4</td>\n",
       "      <td>4.857</td>\n",
       "      <td>5191.0</td>\n",
       "      <td>no</td>\n",
       "      <td>0</td>\n",
       "      <td>1</td>\n",
       "      <td>0</td>\n",
       "    </tr>\n",
       "    <tr>\n",
       "      <th>...</th>\n",
       "      <td>...</td>\n",
       "      <td>...</td>\n",
       "      <td>...</td>\n",
       "      <td>...</td>\n",
       "      <td>...</td>\n",
       "      <td>...</td>\n",
       "      <td>...</td>\n",
       "      <td>...</td>\n",
       "      <td>...</td>\n",
       "      <td>...</td>\n",
       "      <td>...</td>\n",
       "      <td>...</td>\n",
       "      <td>...</td>\n",
       "      <td>...</td>\n",
       "      <td>...</td>\n",
       "      <td>...</td>\n",
       "      <td>...</td>\n",
       "      <td>...</td>\n",
       "      <td>...</td>\n",
       "      <td>...</td>\n",
       "      <td>...</td>\n",
       "    </tr>\n",
       "    <tr>\n",
       "      <th>41183</th>\n",
       "      <td>73</td>\n",
       "      <td>retired</td>\n",
       "      <td>professional.course</td>\n",
       "      <td>no</td>\n",
       "      <td>yes</td>\n",
       "      <td>no</td>\n",
       "      <td>cellular</td>\n",
       "      <td>nov</td>\n",
       "      <td>fri</td>\n",
       "      <td>334</td>\n",
       "      <td>...</td>\n",
       "      <td>nonexistent</td>\n",
       "      <td>-1.1</td>\n",
       "      <td>94.767</td>\n",
       "      <td>-50.8</td>\n",
       "      <td>1.028</td>\n",
       "      <td>4963.6</td>\n",
       "      <td>yes</td>\n",
       "      <td>0</td>\n",
       "      <td>1</td>\n",
       "      <td>0</td>\n",
       "    </tr>\n",
       "    <tr>\n",
       "      <th>41184</th>\n",
       "      <td>46</td>\n",
       "      <td>blue-collar</td>\n",
       "      <td>professional.course</td>\n",
       "      <td>no</td>\n",
       "      <td>no</td>\n",
       "      <td>no</td>\n",
       "      <td>cellular</td>\n",
       "      <td>nov</td>\n",
       "      <td>fri</td>\n",
       "      <td>383</td>\n",
       "      <td>...</td>\n",
       "      <td>nonexistent</td>\n",
       "      <td>-1.1</td>\n",
       "      <td>94.767</td>\n",
       "      <td>-50.8</td>\n",
       "      <td>1.028</td>\n",
       "      <td>4963.6</td>\n",
       "      <td>no</td>\n",
       "      <td>0</td>\n",
       "      <td>1</td>\n",
       "      <td>0</td>\n",
       "    </tr>\n",
       "    <tr>\n",
       "      <th>41185</th>\n",
       "      <td>56</td>\n",
       "      <td>retired</td>\n",
       "      <td>university.degree</td>\n",
       "      <td>no</td>\n",
       "      <td>yes</td>\n",
       "      <td>no</td>\n",
       "      <td>cellular</td>\n",
       "      <td>nov</td>\n",
       "      <td>fri</td>\n",
       "      <td>189</td>\n",
       "      <td>...</td>\n",
       "      <td>nonexistent</td>\n",
       "      <td>-1.1</td>\n",
       "      <td>94.767</td>\n",
       "      <td>-50.8</td>\n",
       "      <td>1.028</td>\n",
       "      <td>4963.6</td>\n",
       "      <td>no</td>\n",
       "      <td>0</td>\n",
       "      <td>1</td>\n",
       "      <td>0</td>\n",
       "    </tr>\n",
       "    <tr>\n",
       "      <th>41186</th>\n",
       "      <td>44</td>\n",
       "      <td>technician</td>\n",
       "      <td>professional.course</td>\n",
       "      <td>no</td>\n",
       "      <td>no</td>\n",
       "      <td>no</td>\n",
       "      <td>cellular</td>\n",
       "      <td>nov</td>\n",
       "      <td>fri</td>\n",
       "      <td>442</td>\n",
       "      <td>...</td>\n",
       "      <td>nonexistent</td>\n",
       "      <td>-1.1</td>\n",
       "      <td>94.767</td>\n",
       "      <td>-50.8</td>\n",
       "      <td>1.028</td>\n",
       "      <td>4963.6</td>\n",
       "      <td>yes</td>\n",
       "      <td>0</td>\n",
       "      <td>1</td>\n",
       "      <td>0</td>\n",
       "    </tr>\n",
       "    <tr>\n",
       "      <th>41187</th>\n",
       "      <td>74</td>\n",
       "      <td>retired</td>\n",
       "      <td>professional.course</td>\n",
       "      <td>no</td>\n",
       "      <td>yes</td>\n",
       "      <td>no</td>\n",
       "      <td>cellular</td>\n",
       "      <td>nov</td>\n",
       "      <td>fri</td>\n",
       "      <td>239</td>\n",
       "      <td>...</td>\n",
       "      <td>failure</td>\n",
       "      <td>-1.1</td>\n",
       "      <td>94.767</td>\n",
       "      <td>-50.8</td>\n",
       "      <td>1.028</td>\n",
       "      <td>4963.6</td>\n",
       "      <td>no</td>\n",
       "      <td>0</td>\n",
       "      <td>1</td>\n",
       "      <td>0</td>\n",
       "    </tr>\n",
       "  </tbody>\n",
       "</table>\n",
       "<p>41108 rows × 23 columns</p>\n",
       "</div>"
      ],
      "text/plain": [
       "       age          job            education  default housing loan    contact  \\\n",
       "0       56    housemaid             basic.4y       no      no   no  telephone   \n",
       "1       57     services          high.school  unknown      no   no  telephone   \n",
       "2       37     services          high.school       no     yes   no  telephone   \n",
       "3       40       admin.             basic.6y       no      no   no  telephone   \n",
       "4       56     services          high.school       no      no  yes  telephone   \n",
       "...    ...          ...                  ...      ...     ...  ...        ...   \n",
       "41183   73      retired  professional.course       no     yes   no   cellular   \n",
       "41184   46  blue-collar  professional.course       no      no   no   cellular   \n",
       "41185   56      retired    university.degree       no     yes   no   cellular   \n",
       "41186   44   technician  professional.course       no      no   no   cellular   \n",
       "41187   74      retired  professional.course       no     yes   no   cellular   \n",
       "\n",
       "      month day_of_week  duration  ...     poutcome  emp.var.rate  \\\n",
       "0       may         mon       261  ...  nonexistent           1.1   \n",
       "1       may         mon       149  ...  nonexistent           1.1   \n",
       "2       may         mon       226  ...  nonexistent           1.1   \n",
       "3       may         mon       151  ...  nonexistent           1.1   \n",
       "4       may         mon       307  ...  nonexistent           1.1   \n",
       "...     ...         ...       ...  ...          ...           ...   \n",
       "41183   nov         fri       334  ...  nonexistent          -1.1   \n",
       "41184   nov         fri       383  ...  nonexistent          -1.1   \n",
       "41185   nov         fri       189  ...  nonexistent          -1.1   \n",
       "41186   nov         fri       442  ...  nonexistent          -1.1   \n",
       "41187   nov         fri       239  ...      failure          -1.1   \n",
       "\n",
       "       cons.price.idx cons.conf.idx  euribor3m  nr.employed    y  divorced  \\\n",
       "0              93.994         -36.4      4.857       5191.0   no         0   \n",
       "1              93.994         -36.4      4.857       5191.0   no         0   \n",
       "2              93.994         -36.4      4.857       5191.0   no         0   \n",
       "3              93.994         -36.4      4.857       5191.0   no         0   \n",
       "4              93.994         -36.4      4.857       5191.0   no         0   \n",
       "...               ...           ...        ...          ...  ...       ...   \n",
       "41183          94.767         -50.8      1.028       4963.6  yes         0   \n",
       "41184          94.767         -50.8      1.028       4963.6   no         0   \n",
       "41185          94.767         -50.8      1.028       4963.6   no         0   \n",
       "41186          94.767         -50.8      1.028       4963.6  yes         0   \n",
       "41187          94.767         -50.8      1.028       4963.6   no         0   \n",
       "\n",
       "       married single  \n",
       "0            1      0  \n",
       "1            1      0  \n",
       "2            1      0  \n",
       "3            1      0  \n",
       "4            1      0  \n",
       "...        ...    ...  \n",
       "41183        1      0  \n",
       "41184        1      0  \n",
       "41185        1      0  \n",
       "41186        1      0  \n",
       "41187        1      0  \n",
       "\n",
       "[41108 rows x 23 columns]"
      ]
     },
     "execution_count": 8,
     "metadata": {},
     "output_type": "execute_result"
    }
   ],
   "source": [
    "data"
   ]
  },
  {
   "cell_type": "code",
   "execution_count": 9,
   "id": "9e1cb6e8",
   "metadata": {},
   "outputs": [
    {
     "data": {
      "text/plain": [
       "housing\n",
       "yes        21541\n",
       "no         18578\n",
       "unknown      989\n",
       "dtype: int64"
      ]
     },
     "execution_count": 9,
     "metadata": {},
     "output_type": "execute_result"
    }
   ],
   "source": [
    "data[['housing']].value_counts()"
   ]
  },
  {
   "cell_type": "code",
   "execution_count": 10,
   "id": "6d7127de",
   "metadata": {},
   "outputs": [],
   "source": [
    "#convert housing status from categorical to numeric variable. As there are only 989 observations with unknown housing status, \n",
    "# we will remove those data points. Then use get_dummies to change the categorical marital status to numeric\n",
    "data = data[data[\"housing\"].str.contains(\"unknown\")==False]\n",
    "\n",
    "df_temp = pd.get_dummies(data['housing'], prefix='housing', prefix_sep=\"_\")\n",
    "\n",
    "data = pd.concat([data, df_temp], axis = 1)\n",
    "data = data.drop(['housing'], axis=1)"
   ]
  },
  {
   "cell_type": "code",
   "execution_count": 11,
   "id": "c3a7fa6d",
   "metadata": {},
   "outputs": [
    {
     "data": {
      "text/plain": [
       "loan\n",
       "no      33883\n",
       "yes      6236\n",
       "dtype: int64"
      ]
     },
     "execution_count": 11,
     "metadata": {},
     "output_type": "execute_result"
    }
   ],
   "source": [
    "data[['loan']].value_counts()"
   ]
  },
  {
   "cell_type": "code",
   "execution_count": 12,
   "id": "c725b457",
   "metadata": {},
   "outputs": [],
   "source": [
    "#Use get_dummies to change the categorical loan status to numeric\n",
    "df_temp = pd.get_dummies(data['loan'], prefix='loan', prefix_sep=\"_\")\n",
    "\n",
    "data = pd.concat([data, df_temp], axis = 1)\n",
    "data = data.drop(['loan'], axis=1)"
   ]
  },
  {
   "cell_type": "code",
   "execution_count": 13,
   "id": "cf01152c",
   "metadata": {},
   "outputs": [
    {
     "data": {
      "text/plain": [
       "education          \n",
       "university.degree      11860\n",
       "high.school             9281\n",
       "basic.9y                5886\n",
       "professional.course     5112\n",
       "basic.4y                4054\n",
       "basic.6y                2226\n",
       "unknown                 1682\n",
       "illiterate                18\n",
       "dtype: int64"
      ]
     },
     "execution_count": 13,
     "metadata": {},
     "output_type": "execute_result"
    }
   ],
   "source": [
    "data[['education']].value_counts()"
   ]
  },
  {
   "cell_type": "code",
   "execution_count": 14,
   "id": "c7212df0",
   "metadata": {},
   "outputs": [],
   "source": [
    "#want to keep the rows with unknown education as there are 1682 rows with unknown status. \n",
    "#Use get_dummies to change the categorical education status to numeric\n",
    "df_temp = pd.get_dummies(data['education'], prefix='edu', prefix_sep=\"_\")\n",
    "\n",
    "data = pd.concat([data, df_temp], axis = 1)\n",
    "data = data.drop(['education'], axis=1)"
   ]
  },
  {
   "cell_type": "code",
   "execution_count": 15,
   "id": "090f02ac",
   "metadata": {},
   "outputs": [],
   "source": [
    "#Deleting the following columns \n",
    "# 1. contact-It is either through cell or tel. Someone having a term deposit,based on the  contact mechanism doesn't make sense\n",
    "# 2. month - Same as above. There is no relation between last contact month and the person hving a term deposit\n",
    "# 3. Day of the week  - Same as above\n",
    "# 4. Duration - Same as above, although corelated with the dependent variable. It should not be considered for prediction.\n",
    "\n",
    "data = data.drop(['contact'], axis=1)\n",
    "data = data.drop(['month'], axis=1)\n",
    "data = data.drop(['day_of_week'], axis=1)\n",
    "data = data.drop(['duration'], axis=1)"
   ]
  },
  {
   "cell_type": "code",
   "execution_count": 16,
   "id": "47399e52",
   "metadata": {},
   "outputs": [
    {
     "data": {
      "text/plain": [
       "poutcome   \n",
       "nonexistent    34651\n",
       "failure         4128\n",
       "success         1340\n",
       "dtype: int64"
      ]
     },
     "execution_count": 16,
     "metadata": {},
     "output_type": "execute_result"
    }
   ],
   "source": [
    "data[['poutcome']].value_counts()"
   ]
  },
  {
   "cell_type": "code",
   "execution_count": 17,
   "id": "433d38fc",
   "metadata": {},
   "outputs": [],
   "source": [
    "#poutcome could be an indicator. It there was a positive, negative or no participation in the previous campaign. \n",
    "#Use get_dummies to change the categorical poutcome status to numeric\n",
    "\n",
    "df_temp = pd.get_dummies(data['poutcome'], prefix='poutcome', prefix_sep=\"_\")\n",
    "\n",
    "data = pd.concat([data, df_temp], axis = 1)\n",
    "data = data.drop(['poutcome'], axis=1)"
   ]
  },
  {
   "cell_type": "code",
   "execution_count": 18,
   "id": "4a6f43cc",
   "metadata": {},
   "outputs": [
    {
     "data": {
      "text/plain": [
       "job          \n",
       "admin.           10181\n",
       "blue-collar       9001\n",
       "technician        6584\n",
       "services          3862\n",
       "management        2850\n",
       "retired           1671\n",
       "entrepreneur      1417\n",
       "self-employed     1376\n",
       "housemaid         1028\n",
       "unemployed         982\n",
       "student            851\n",
       "unknown            316\n",
       "dtype: int64"
      ]
     },
     "execution_count": 18,
     "metadata": {},
     "output_type": "execute_result"
    }
   ],
   "source": [
    "data[['job']].value_counts()"
   ]
  },
  {
   "cell_type": "code",
   "execution_count": 19,
   "id": "e3df0a99",
   "metadata": {},
   "outputs": [],
   "source": [
    "#convert job status from categorical to numeric variable. Use get_dummies to change the categorical job  to numeric\n",
    "df_temp = pd.get_dummies(data['job'], prefix='job', prefix_sep=\"_\")\n",
    "\n",
    "data = pd.concat([data, df_temp], axis = 1)\n",
    "data = data.drop(['job'], axis=1)"
   ]
  },
  {
   "cell_type": "code",
   "execution_count": 20,
   "id": "87736bec",
   "metadata": {},
   "outputs": [
    {
     "data": {
      "text/plain": [
       "default\n",
       "no         31757\n",
       "unknown     8359\n",
       "yes            3\n",
       "dtype: int64"
      ]
     },
     "execution_count": 20,
     "metadata": {},
     "output_type": "execute_result"
    }
   ],
   "source": [
    "data[['default']].value_counts()"
   ]
  },
  {
   "cell_type": "code",
   "execution_count": 21,
   "id": "b7b3bd58",
   "metadata": {},
   "outputs": [],
   "source": [
    "#Someone having defaulted on credit, should be a good indication as to whether they have term deposit. As they would more likely\n",
    "#not default if there is a term deposit they have. However, we will not be able to use this data for prediction, as there is\n",
    "#almost no data for 'yes' condition. Hence, dropping this column.\n",
    "\n",
    "data = data.drop(['default'], axis=1)"
   ]
  },
  {
   "cell_type": "code",
   "execution_count": 22,
   "id": "805de3b7",
   "metadata": {},
   "outputs": [
    {
     "data": {
      "text/plain": [
       "y  \n",
       "no     35598\n",
       "yes     4521\n",
       "dtype: int64"
      ]
     },
     "execution_count": 22,
     "metadata": {},
     "output_type": "execute_result"
    }
   ],
   "source": [
    "data[['y']].value_counts()"
   ]
  },
  {
   "cell_type": "code",
   "execution_count": 23,
   "id": "c2d9724a",
   "metadata": {},
   "outputs": [
    {
     "data": {
      "text/plain": [
       "y\n",
       "0    35598\n",
       "1     4521\n",
       "dtype: int64"
      ]
     },
     "execution_count": 23,
     "metadata": {},
     "output_type": "execute_result"
    }
   ],
   "source": [
    "#Lets convert the y column which needs to be used for prediction to a numeric. no = 0, yes = 1\n",
    "data['y'] = np.where(data['y'] == 'no', 0, 1)\n",
    "data[['y']].value_counts()"
   ]
  },
  {
   "cell_type": "code",
   "execution_count": 24,
   "id": "93dc2d35",
   "metadata": {},
   "outputs": [
    {
     "data": {
      "text/plain": [
       "age                          int64\n",
       "campaign                     int64\n",
       "pdays                        int64\n",
       "previous                     int64\n",
       "emp.var.rate               float64\n",
       "cons.price.idx             float64\n",
       "cons.conf.idx              float64\n",
       "euribor3m                  float64\n",
       "nr.employed                float64\n",
       "y                            int32\n",
       "divorced                     uint8\n",
       "married                      uint8\n",
       "single                       uint8\n",
       "housing_no                   uint8\n",
       "housing_yes                  uint8\n",
       "loan_no                      uint8\n",
       "loan_yes                     uint8\n",
       "edu_basic.4y                 uint8\n",
       "edu_basic.6y                 uint8\n",
       "edu_basic.9y                 uint8\n",
       "edu_high.school              uint8\n",
       "edu_illiterate               uint8\n",
       "edu_professional.course      uint8\n",
       "edu_university.degree        uint8\n",
       "edu_unknown                  uint8\n",
       "poutcome_failure             uint8\n",
       "poutcome_nonexistent         uint8\n",
       "poutcome_success             uint8\n",
       "job_admin.                   uint8\n",
       "job_blue-collar              uint8\n",
       "job_entrepreneur             uint8\n",
       "job_housemaid                uint8\n",
       "job_management               uint8\n",
       "job_retired                  uint8\n",
       "job_self-employed            uint8\n",
       "job_services                 uint8\n",
       "job_student                  uint8\n",
       "job_technician               uint8\n",
       "job_unemployed               uint8\n",
       "job_unknown                  uint8\n",
       "dtype: object"
      ]
     },
     "execution_count": 24,
     "metadata": {},
     "output_type": "execute_result"
    }
   ],
   "source": [
    "data.dtypes"
   ]
  },
  {
   "cell_type": "code",
   "execution_count": 25,
   "id": "9a28cabf",
   "metadata": {},
   "outputs": [],
   "source": [
    "#Now all data has been cleansed. Lets split the data into training and test\n",
    "train, test = train_test_split(data, test_size=0.2, random_state=42, shuffle=True)"
   ]
  },
  {
   "cell_type": "code",
   "execution_count": 26,
   "id": "4dcbe308",
   "metadata": {},
   "outputs": [],
   "source": [
    "y_train = train['y']\n",
    "X_train = train.drop(['y'], axis=1)"
   ]
  },
  {
   "cell_type": "code",
   "execution_count": 27,
   "id": "355c34ba",
   "metadata": {},
   "outputs": [],
   "source": [
    "y_test = test['y']\n",
    "X_test = test.drop(['y'], axis=1)"
   ]
  },
  {
   "cell_type": "code",
   "execution_count": 28,
   "id": "16ab5108",
   "metadata": {},
   "outputs": [
    {
     "name": "stdout",
     "output_type": "stream",
     "text": [
      "Train score : \n",
      "0.9003271537622682\n",
      "Test score : \n",
      "0.893444666001994\n"
     ]
    }
   ],
   "source": [
    "#Logistic regression\n",
    "#Scale the data \n",
    "scaler = StandardScaler()\n",
    "\n",
    "#Select features using Logistic Regression\n",
    "extractor = SelectFromModel(LogisticRegression(penalty='l1', solver='liblinear', random_state=42))\n",
    "\n",
    "lgr_pipe = Pipeline([\n",
    "    ('scale', scaler),\n",
    "    ('selector', extractor),\n",
    "    ('lgr', LogisticRegression(random_state=42, max_iter=1000))\n",
    "])\n",
    "\n",
    "lgr_pipe.fit(X_train, y_train)\n",
    "\n",
    "test_score = lgr_pipe.score(X_test, y_test)\n",
    "train_score = lgr_pipe.score(X_train, y_train)\n",
    "\n",
    "# Answer check\n",
    "print('Train score : ')\n",
    "print(train_score)\n",
    "print('Test score : ')\n",
    "print(test_score)"
   ]
  },
  {
   "cell_type": "code",
   "execution_count": 29,
   "id": "79e9a81f",
   "metadata": {},
   "outputs": [
    {
     "name": "stdout",
     "output_type": "stream",
     "text": [
      "0    0.888082\n",
      "1    0.111918\n",
      "Name: y, dtype: float64\n",
      "0    0.884222\n",
      "1    0.115778\n",
      "Name: y, dtype: float64\n"
     ]
    }
   ],
   "source": [
    "#compare with baseline train and test score\n",
    "print(y_train.value_counts(normalize=True))\n",
    "print(y_test.value_counts(normalize=True))\n",
    "\n",
    "#compared with baseline, our logistic model is performing a little better\n",
    "#88.8% vs 90.3% in training set\n",
    "#88.42% vs 89.34% in test"
   ]
  },
  {
   "cell_type": "code",
   "execution_count": 30,
   "id": "4477fe84",
   "metadata": {},
   "outputs": [
    {
     "data": {
      "image/png": "[encoded data removed]",
      "text/plain": [
       "<Figure size 432x288 with 2 Axes>"
      ]
     },
     "metadata": {
      "needs_background": "light"
     },
     "output_type": "display_data"
    },
    {
     "name": "stdout",
     "output_type": "stream",
     "text": [
      "0.901854714064915\n",
      "0.09814528593508501\n",
      "0.6423076923076924\n",
      "0.3576923076923077\n"
     ]
    }
   ],
   "source": [
    "\n",
    "predictions = lgr_pipe.predict(X_test)\n",
    "cm = confusion_matrix(y_test, predictions)\n",
    "\n",
    "disp = ConfusionMatrixDisplay(confusion_matrix=cm)\n",
    "disp.plot()\n",
    "plt.show()\n",
    "\n",
    "tn = 7002/(7002+762)\n",
    "fn = 762/(7002+762)\n",
    "tp = 167/(167+93)\n",
    "fp = 93/(93+167)\n",
    "\n",
    "print(tn)\n",
    "print(fn)\n",
    "print(tp)\n",
    "print(fp)"
   ]
  },
  {
   "cell_type": "code",
   "execution_count": 31,
   "id": "d2b56223",
   "metadata": {},
   "outputs": [
    {
     "data": {
      "image/png": "[encoded data removed]",
      "text/plain": [
       "<Figure size 432x288 with 1 Axes>"
      ]
     },
     "metadata": {
      "needs_background": "light"
     },
     "output_type": "display_data"
    }
   ],
   "source": [
    "#ROC Curve\n",
    "y_score = lgr_pipe.decision_function(X_test)\n",
    "\n",
    "fpr, tpr, _ = roc_curve(y_test, y_score)\n",
    "roc_display = RocCurveDisplay(fpr=fpr, tpr=tpr).plot()"
   ]
  },
  {
   "cell_type": "code",
   "execution_count": 32,
   "id": "6c486182",
   "metadata": {},
   "outputs": [
    {
     "data": {
      "image/png": "[encoded data removed]",
      "text/plain": [
       "<Figure size 432x288 with 1 Axes>"
      ]
     },
     "metadata": {
      "needs_background": "light"
     },
     "output_type": "display_data"
    }
   ],
   "source": [
    "#Precision recall curve\n",
    "prec, recall, _ = precision_recall_curve(y_test, y_score)\n",
    "pr_display = PrecisionRecallDisplay(precision=prec, recall=recall).plot()"
   ]
  },
  {
   "cell_type": "code",
   "execution_count": 33,
   "id": "14ccbf5e",
   "metadata": {},
   "outputs": [
    {
     "data": {
      "image/png": "[encoded data removed]",
      "text/plain": [
       "<Figure size 864x576 with 2 Axes>"
      ]
     },
     "metadata": {
      "needs_background": "light"
     },
     "output_type": "display_data"
    }
   ],
   "source": [
    "fig, (ax1, ax2) = plt.subplots(1, 2, figsize=(12, 8))\n",
    "\n",
    "roc_display.plot(ax=ax1)\n",
    "pr_display.plot(ax=ax2)\n",
    "plt.show()"
   ]
  },
  {
   "cell_type": "code",
   "execution_count": 34,
   "id": "e3d79e77",
   "metadata": {},
   "outputs": [
    {
     "name": "stdout",
     "output_type": "stream",
     "text": [
      "Pipeline(steps=[('knclassifer', KNeighborsClassifier(n_neighbors=20))])\n",
      "{'knclassifer__n_neighbors': 20}\n",
      "0.8935692921236291\n"
     ]
    }
   ],
   "source": [
    "#next we will use KNearestNeighbors\n",
    "\n",
    "kn_pipe = Pipeline([('knclassifer', KNeighborsClassifier())])\n",
    "\n",
    "kn_params = {'knclassifer__n_neighbors' : [1, 2, 3, 4, 5, 6, 7, 8, 9, 10, 11, 12, 13, 14, 15, 16, 17, 18, 19, 20]}\n",
    "\n",
    "kn_grid = GridSearchCV(kn_pipe, param_grid=kn_params)\n",
    "\n",
    "kn_grid.fit(X_train, y_train)\n",
    "print(kn_grid.best_estimator_)\n",
    "print(kn_grid.best_params_)\n",
    "print(accuracy_score(kn_grid.predict(X_test), y_test))"
   ]
  },
  {
   "cell_type": "code",
   "execution_count": 39,
   "id": "019fa48a",
   "metadata": {},
   "outputs": [
    {
     "name": "stdout",
     "output_type": "stream",
     "text": [
      "Pipeline(steps=[('scale', StandardScaler()),\n",
      "                ('dtree', DecisionTreeClassifier(max_depth=2))])\n",
      "{'dtree__max_depth': 2}\n",
      "0.8945663010967099\n"
     ]
    }
   ],
   "source": [
    "#next we will use DecisionTree\n",
    "scaler = StandardScaler()\n",
    "d_pipe = Pipeline([\n",
    "    ('scale', scaler),\n",
    "    ('dtree', DecisionTreeClassifier())\n",
    "])\n",
    "    \n",
    "dtree_params = {'dtree__max_depth' : [1, 2, 3, 4, 5, 6, 7, 8, 9, 10, 11, 12, 13, 14, 15, 16, 17, 18, 19, 20]}\n",
    "\n",
    "dtree_grid = GridSearchCV(d_pipe, param_grid=dtree_params)\n",
    "\n",
    "dtree_grid.fit(X_train, y_train)\n",
    "print(dtree_grid.best_estimator_)\n",
    "print(dtree_grid.best_params_)\n",
    "print(accuracy_score(dtree_grid.predict(X_test), y_test))"
   ]
  },
  {
   "cell_type": "code",
   "execution_count": 40,
   "id": "ba9d4e67",
   "metadata": {},
   "outputs": [
    {
     "name": "stdout",
     "output_type": "stream",
     "text": [
      "0.8842223330009971\n"
     ]
    }
   ],
   "source": [
    "#Dummy classifier for benchmarking purposes\n",
    "dummy_clf = DummyClassifier().fit(X_train, y_train)\n",
    "baseline_score = dummy_clf.score(X_test, y_test)\n",
    "print(baseline_score)"
   ]
  },
  {
   "cell_type": "code",
   "execution_count": 42,
   "id": "ca44b716",
   "metadata": {},
   "outputs": [
    {
     "name": "stdout",
     "output_type": "stream",
     "text": [
      "0.8944416749750748\n"
     ]
    }
   ],
   "source": [
    "#SVC with default parameters\n",
    "X_train_scaled = StandardScaler().fit_transform(X_train)\n",
    "X_test_scaled = StandardScaler().fit_transform(X_test)\n",
    "\n",
    "svc = SVC().fit(X_train_scaled, y_train)\n",
    "svc_defaults = svc.score(X_test_scaled, y_test)\n",
    "\n",
    "print(svc_defaults)"
   ]
  },
  {
   "cell_type": "code",
   "execution_count": null,
   "id": "221be257",
   "metadata": {},
   "outputs": [],
   "source": [
    "#took a very long time hence stopped it from running\n",
    "params = {'kernel': ['rbf', 'poly', 'linear', 'sigmoid'],\n",
    "          'gamma': [0.1, 1.0, 10.0, 100.0],}\n",
    "\n",
    "grid = GridSearchCV(estimator=svc, param_grid=params).fit(X_train_scaled, y_train)\n",
    "grid_score = grid.score(X_test_scaled, y_test)\n",
    "best_kernel = grid.best_estimator_\n",
    "\n",
    "print(grid_score)\n",
    "print(best_kernel)"
   ]
  },
  {
   "cell_type": "code",
   "execution_count": 75,
   "id": "83298140",
   "metadata": {},
   "outputs": [
    {
     "name": "stdout",
     "output_type": "stream",
     "text": [
      "[0.12909883 0.065027   0.05432397 0.05274181 0.0494382  0.0476677\n",
      " 0.04501223 0.04252366 0.0393639  0.0369311  0.03209051 0.03044276\n",
      " 0.02935264 0.0283843  0.02697788 0.02678194 0.02626094 0.02604638\n",
      " 0.02556723 0.02536775 0.02383399 0.02240084 0.02110292 0.02064414\n",
      " 0.01822693]\n"
     ]
    }
   ],
   "source": [
    "#lets now try to reduce the input params by using PCA\n",
    "\n",
    "pca = PCA(n_components=25)\n",
    "X_train_scaled = StandardScaler().fit_transform(X_train)\n",
    "principalComponents = pca.fit_transform(X_train_scaled)\n",
    "\n",
    "X_train_pca = pd.DataFrame(data = principalComponents)\n",
    "print(pca.explained_variance_ratio_)"
   ]
  },
  {
   "cell_type": "code",
   "execution_count": null,
   "id": "7f890693",
   "metadata": {},
   "outputs": [],
   "source": []
  },
  {
   "cell_type": "code",
   "execution_count": 63,
   "id": "0cf92602",
   "metadata": {},
   "outputs": [
    {
     "name": "stdout",
     "output_type": "stream",
     "text": [
      "Pipeline(steps=[('knclassifer1', KNeighborsClassifier(n_neighbors=18))])\n",
      "{'knclassifer1__n_neighbors': 18}\n",
      "0.8915752741774676\n"
     ]
    }
   ],
   "source": [
    "#We will use KNearestNeighbors with PCA = 2\n",
    "pca = PCA(n_components=2)\n",
    "X_train_scaled = StandardScaler().fit_transform(X_train)\n",
    "principalComponents = pca.fit_transform(X_train_scaled)\n",
    "\n",
    "X_train_pca = pd.DataFrame(data = principalComponents)\n",
    "\n",
    "kn_pipe1 = Pipeline([('knclassifer1', KNeighborsClassifier())])\n",
    "\n",
    "kn_params1 = {'knclassifer1__n_neighbors' : [1, 2, 3, 4, 5, 6, 7, 8, 9, 10, 11, 12, 13, 14, 15, 16, 17, 18, 19, 20]}\n",
    "\n",
    "kn_grid1 = GridSearchCV(kn_pipe1, param_grid=kn_params1)\n",
    "\n",
    "kn_grid1.fit(X_train_pca, y_train)\n",
    "print(kn_grid1.best_estimator_)\n",
    "print(kn_grid1.best_params_)\n",
    "\n",
    "X_test_scaled = StandardScaler().fit_transform(X_test)\n",
    "X_test_pca = pca.fit_transform(X_test_scaled)\n",
    "print(accuracy_score(kn_grid1.predict(X_test_pca), y_test))"
   ]
  },
  {
   "cell_type": "code",
   "execution_count": 64,
   "id": "7d4bcfba",
   "metadata": {},
   "outputs": [
    {
     "name": "stdout",
     "output_type": "stream",
     "text": [
      "Pipeline(steps=[('dtree1', DecisionTreeClassifier(max_depth=3))])\n",
      "{'dtree1__max_depth': 3}\n",
      "0.8913260219341974\n"
     ]
    }
   ],
   "source": [
    "#next we will use DecisionTree with PCA = 2\n",
    "pca = PCA(n_components=2)\n",
    "X_train_scaled = StandardScaler().fit_transform(X_train)\n",
    "principalComponents = pca.fit_transform(X_train_scaled)\n",
    "\n",
    "X_train_pca = pd.DataFrame(data = principalComponents)\n",
    "\n",
    "d_pipe1 = Pipeline([('dtree1', DecisionTreeClassifier())])\n",
    "\n",
    "dtree1_params = {'dtree1__max_depth' : [1, 2, 3, 4, 5, 6, 7, 8, 9, 10, 11, 12, 13, 14, 15, 16, 17, 18, 19, 20]}\n",
    "\n",
    "dtree1_grid = GridSearchCV(d_pipe1, param_grid=dtree1_params)\n",
    "\n",
    "dtree1_grid.fit(X_train_pca, y_train)\n",
    "print(dtree1_grid.best_estimator_)\n",
    "print(dtree1_grid.best_params_)\n",
    "\n",
    "X_test_scaled = StandardScaler().fit_transform(X_test)\n",
    "X_test_pca = pca.fit_transform(X_test_scaled)\n",
    "\n",
    "X_test_pca = pca.fit_transform(X_test_pca)\n",
    "print(accuracy_score(dtree1_grid.predict(X_test_pca), y_test))"
   ]
  },
  {
   "cell_type": "code",
   "execution_count": 65,
   "id": "62bfd15a",
   "metadata": {},
   "outputs": [
    {
     "name": "stdout",
     "output_type": "stream",
     "text": [
      "0.8930707876370887\n"
     ]
    }
   ],
   "source": [
    "#SVC with default parameters and PCA = 2\n",
    "pca = PCA(n_components=2)\n",
    "X_train_scaled = StandardScaler().fit_transform(X_train)\n",
    "principalComponents = pca.fit_transform(X_train_scaled)\n",
    "\n",
    "X_train_pca = pd.DataFrame(data = principalComponents)\n",
    "\n",
    "svc = SVC().fit(X_train_pca, y_train)\n",
    "\n",
    "X_test_scaled = StandardScaler().fit_transform(X_test)\n",
    "X_test_pca = pca.fit_transform(X_test_scaled)\n",
    "\n",
    "svc_defaults = svc.score(X_test_pca, y_test)\n",
    "\n",
    "print(svc_defaults)"
   ]
  },
  {
   "cell_type": "code",
   "execution_count": 81,
   "id": "c27d6113",
   "metadata": {},
   "outputs": [
    {
     "name": "stdout",
     "output_type": "stream",
     "text": [
      "Train score : \n",
      "0.8949992210624708\n",
      "Test score : \n",
      "0.8916999002991027\n"
     ]
    }
   ],
   "source": [
    "#Logistic regression with PCA = 2\n",
    "#Scale the data \n",
    "scaler = StandardScaler()\n",
    "\n",
    "lgr_pipe = Pipeline([\n",
    "    ('lgr', LogisticRegression(random_state=42, max_iter=1000))\n",
    "])\n",
    "\n",
    "pca = PCA(n_components=2)\n",
    "X_train_scaled = StandardScaler().fit_transform(X_train)\n",
    "principalComponents = pca.fit_transform(X_train_scaled)\n",
    "\n",
    "X_train_pca = pd.DataFrame(data = principalComponents)\n",
    "\n",
    "lgr_pipe.fit(X_train_pca, y_train)\n",
    "\n",
    "X_test_scaled = StandardScaler().fit_transform(X_test)\n",
    "X_test_pca = pca.fit_transform(X_test_scaled)\n",
    "\n",
    "train_score = lgr_pipe.score(X_train_pca, y_train)\n",
    "test_score = lgr_pipe.score(X_test_pca, y_test)\n",
    "\n",
    "# Answer check\n",
    "print('Train score : ')\n",
    "print(train_score)\n",
    "print('Test score : ')\n",
    "print(test_score)"
   ]
  },
  {
   "cell_type": "code",
   "execution_count": 71,
   "id": "eb16385b",
   "metadata": {},
   "outputs": [
    {
     "data": {
      "image/png": "[encoded data removed]",
      "text/plain": [
       "<Figure size 432x288 with 2 Axes>"
      ]
     },
     "metadata": {
      "needs_background": "light"
     },
     "output_type": "display_data"
    },
    {
     "name": "stdout",
     "output_type": "stream",
     "text": [
      "0.8959552276774357\n",
      "0.10404477232256423\n",
      "0.6851851851851852\n",
      "0.3148148148148148\n"
     ]
    }
   ],
   "source": [
    "predictions = lgr_pipe.predict(X_test_pca)\n",
    "cm = confusion_matrix(y_test, predictions)\n",
    "\n",
    "disp = ConfusionMatrixDisplay(confusion_matrix=cm)\n",
    "disp.plot()\n",
    "plt.show()\n",
    "\n",
    "tn = 7044/(7044+818)\n",
    "fn = 818/(7044+818)\n",
    "tp = 111/(111+51)\n",
    "fp = 51/(51+111)\n",
    "print(tn)\n",
    "print(fn)\n",
    "print(tp)\n",
    "print(fp)"
   ]
  },
  {
   "cell_type": "code",
   "execution_count": 33,
   "id": "709b01ab",
   "metadata": {},
   "outputs": [],
   "source": [
    "#Further analysis of the data\n",
    "data1 = pd.read_csv(\"C:/Users/fz8fd2/Downloads/test/Projects/Bank project/bank-additional/bank-additional-full_raj.csv\")"
   ]
  },
  {
   "cell_type": "code",
   "execution_count": 34,
   "id": "5f221982",
   "metadata": {},
   "outputs": [
    {
     "data": {
      "text/plain": [
       "age                 int64\n",
       "job                object\n",
       "marital            object\n",
       "education          object\n",
       "default            object\n",
       "housing            object\n",
       "loan               object\n",
       "contact            object\n",
       "month              object\n",
       "day_of_week        object\n",
       "duration            int64\n",
       "campaign            int64\n",
       "pdays               int64\n",
       "previous            int64\n",
       "poutcome           object\n",
       "emp.var.rate      float64\n",
       "cons.price.idx    float64\n",
       "cons.conf.idx     float64\n",
       "euribor3m         float64\n",
       "nr.employed       float64\n",
       "y                  object\n",
       "dtype: object"
      ]
     },
     "execution_count": 34,
     "metadata": {},
     "output_type": "execute_result"
    }
   ],
   "source": [
    "data1.dtypes"
   ]
  },
  {
   "cell_type": "code",
   "execution_count": 37,
   "id": "2291feb9",
   "metadata": {},
   "outputs": [
    {
     "data": {
      "text/plain": [
       "no     36548\n",
       "yes     4640\n",
       "Name: y, dtype: int64"
      ]
     },
     "execution_count": 37,
     "metadata": {},
     "output_type": "execute_result"
    }
   ],
   "source": [
    "data1['y'].value_counts()\n",
    "#yes vs no samples are not balanced"
   ]
  },
  {
   "cell_type": "code",
   "execution_count": 38,
   "id": "fe10cda1",
   "metadata": {},
   "outputs": [
    {
     "data": {
      "text/plain": [
       "university.degree      12168\n",
       "high.school             9515\n",
       "basic.9y                6045\n",
       "professional.course     5243\n",
       "basic.4y                4176\n",
       "basic.6y                2292\n",
       "unknown                 1731\n",
       "illiterate                18\n",
       "Name: education, dtype: int64"
      ]
     },
     "execution_count": 38,
     "metadata": {},
     "output_type": "execute_result"
    }
   ],
   "source": [
    "data1['education'].value_counts()\n",
    "#illeterate samples are very low. Cannot produce any findings."
   ]
  },
  {
   "cell_type": "code",
   "execution_count": 40,
   "id": "ae21b75f",
   "metadata": {},
   "outputs": [
    {
     "data": {
      "text/plain": [
       "yes        21576\n",
       "no         18622\n",
       "unknown      990\n",
       "Name: housing, dtype: int64"
      ]
     },
     "execution_count": 40,
     "metadata": {},
     "output_type": "execute_result"
    }
   ],
   "source": [
    "data1['housing'].value_counts()\n",
    "#housing data is well balanced"
   ]
  },
  {
   "cell_type": "code",
   "execution_count": null,
   "id": "b8f4dbdc",
   "metadata": {},
   "outputs": [],
   "source": []
  },
  {
   "cell_type": "code",
   "execution_count": null,
   "id": "ef989b8d",
   "metadata": {},
   "outputs": [],
   "source": [
    "#The following is the methodology I used\n",
    "1. Loaded the data\n",
    "2. Cleaned the data as per below:\n",
    "    1. Checked what columns had \"unknown\" values.\n",
    "    2. If number of unknows is too less, then got rid of those data points\n",
    "    3. Converted categorical values to numeric using get_dummies() method\n",
    "    4. Deleted columns that did not make sense to run the analysis, such as how the bank reached out to the customer, via \n",
    "    telephone or cellular, which day they reached out etc. These are not critical factors for someone to subscribe to a \n",
    "    term deposit\n",
    "3. Once the data cleanup is completed, I created the train and test dataset. I used sklearn's train_test_split and split the\n",
    "data into training (80%) and validation testing (20%). Since the data was ordered I shuffled it. I should have used stratify \n",
    "so that the data in train and test having comparable yes and no outcomes. However, I did not do that in my original run and \n",
    "didn't have the time to rerun with this parameter. But something that I would do in practice. \n",
    "4. Ran the analysis on training data and test data using 4 different classifiers. The following are the test scores.\n",
    "    1. Logistic regression -  89.34% (tn - 90% and tp = 64%)\n",
    "    2. KNearestNaighbors - 89.36%\n",
    "    3. Decision Tree - 89.46%\n",
    "    4. SVC - 89.44%\n",
    "    5. Dummy - 88.42%\n",
    "5. Since there were more than 35 features after I used get_dummies() on many categorical features, I used PCA to reduce the \n",
    "features.\n",
    "    1. Found that 1st 10 pca components, were able to account for over 60% of the variance in data\n",
    "    2. 1st 24 components, were able to account for over 85% of the variance in the data\n",
    "6. Ran all the analysis once again using the principal components. For ease of use, I used only the top 2 PCA components. This \n",
    "should have only accounted for 20% of the variance, but I was very surprised with the results as they performed pretty closely\n",
    "to using the whole dataset.\n",
    "    1. Logistic regression - 89.17% (tn - 89.6% and tp = 68.5%)\n",
    "    2. KNearestNaighbors - 89.16%\n",
    "    3. Decision Tree - 89.13%\n",
    "    4. SVC - 89.3%\n",
    "    \n",
    "Here are my learnings/findings\n",
    "\n",
    "1. All types of classifiers yield pretty similar results. Although the output is similar, we need to consider the size of the \n",
    "data to determine, which approach may be suitable. \n",
    "2. SVC was very slow performing and Decision trees were very fast. KNearestNeighbor also was very computationally intensive\n",
    "when the trying to compare with more neighbors.\n",
    "3. Decision trees are very efficient in finding the optimal solution within a short depth. In my case, tree_depth was just 3,\n",
    "where it found the optimal solution\n",
    "4. PCA needs to be used, when there are more number of features and large data sets. In my case, even with 2 PCA components,\n",
    "the results were very close to using the whole data set. Again the type of classifier did not make much difference in the results. \n",
    "All the classifiers scored approximately the same. Given the results were similar, it makes sense to use Decision trees as\n",
    "they were very fast. SVC was the slowest. \n",
    "5. Although the models performed at 90% or so, even the dummy classifier performed at 88.5%, hence the models weren't that much more\n",
    "smarter in classifying the data. I would get additional data and try to get a balance of 'yes' and 'no' outcome and then \n",
    "try out the model again to see if the dummy classifier goes down in scoring and our models predict at the same or better level.\n",
    "\n",
    "\n"
   ]
  }
 ],
 "metadata": {
  "kernelspec": {
   "display_name": "Python 3 (ipykernel)",
   "language": "python",
   "name": "python3"
  },
  "language_info": {
   "codemirror_mode": {
    "name": "ipython",
    "version": 3
   },
   "file_extension": ".py",
   "mimetype": "text/x-python",
   "name": "python",
   "nbconvert_exporter": "python",
   "pygments_lexer": "ipython3",
   "version": "3.9.7"
  }
 },
 "nbformat": 4,
 "nbformat_minor": 5
}
