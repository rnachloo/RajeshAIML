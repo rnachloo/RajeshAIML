{
  "nbformat": 4,
  "nbformat_minor": 0,
  "metadata": {
    "colab": {
      "provenance": []
    },
    "kernelspec": {
      "name": "python3",
      "display_name": "Python 3"
    },
    "language_info": {
      "name": "python"
    },
    "accelerator": "GPU",
    "gpuClass": "standard"
  },
  "cells": [
    {
      "cell_type": "code",
      "execution_count": null,
      "metadata": {
        "colab": {
          "base_uri": "https://localhost:8080/"
        },
        "id": "7VOF8tQnvmJ5",
        "outputId": "68b1192e-30ac-4090-e06a-61ad523a9890"
      },
      "outputs": [
        {
          "output_type": "stream",
          "name": "stdout",
          "text": [
            "Downloading data from https://storage.googleapis.com/tensorflow/tf-keras-datasets/train-labels-idx1-ubyte.gz\n",
            "32768/29515 [=================================] - 0s 0us/step\n",
            "40960/29515 [=========================================] - 0s 0us/step\n",
            "Downloading data from https://storage.googleapis.com/tensorflow/tf-keras-datasets/train-images-idx3-ubyte.gz\n",
            "26427392/26421880 [==============================] - 0s 0us/step\n",
            "26435584/26421880 [==============================] - 0s 0us/step\n",
            "Downloading data from https://storage.googleapis.com/tensorflow/tf-keras-datasets/t10k-labels-idx1-ubyte.gz\n",
            "16384/5148 [===============================================================================================] - 0s 0us/step\n",
            "Downloading data from https://storage.googleapis.com/tensorflow/tf-keras-datasets/t10k-images-idx3-ubyte.gz\n",
            "4423680/4422102 [==============================] - 0s 0us/step\n",
            "4431872/4422102 [==============================] - 0s 0us/step\n",
            "train_images :  (6000, 224, 224, 3)\n",
            "test_images :  (1000, 224, 224, 3)\n"
          ]
        }
      ],
      "source": [
        "#import python libraries, tensorflow and keras\n",
        "import pandas as pd\n",
        "import numpy as np\n",
        "import matplotlib.pyplot as plt\n",
        "\n",
        "import tensorflow as tf\n",
        "from tensorflow import keras\n",
        "from tensorflow.keras import layers\n",
        "\n",
        "#load dataset for image classification from keras\n",
        "fashion_mnist = keras.datasets.fashion_mnist\n",
        "\n",
        "#Split this data into training and test set\n",
        "(train_images, train_labels), (test_images, test_labels) = fashion_mnist.load_data()\n",
        "\n",
        "#create class names for the images. There are 10 different image classfications\n",
        "class_names = ['T-shirt/top', 'Trouser', 'Pullover', 'Dress', 'Coat', 'Sandal', 'Shirt', 'Sneaker', 'Bag', 'Ankle boot']\n",
        "\n",
        "#Now lets try and use vgg16 algorithm and see if it predicts better\n",
        "#Step 1 - Create training and test images of size and shape required by VGG16. (1,224,224,3). Our current training and test images are (28,28)\n",
        "import cv2\n",
        "\n",
        "train_size = 6000\n",
        "test_size = 1000\n",
        "\n",
        "train_images = train_images[0:train_size]\n",
        "train_labels = train_labels[0:train_size]\n",
        "test_images = test_images[0:test_size]\n",
        "test_labels = test_labels[0:test_size]\n",
        "\n",
        "train_images = np.dstack([train_images] * 3)\n",
        "train_images = train_images.reshape(-1, 28,28,3)\n",
        "\n",
        "test_images = np.dstack([test_images] * 3)\n",
        "test_images = test_images.reshape(-1, 28,28,3)\n",
        "\n",
        "from keras.preprocessing.image import img_to_array, array_to_img\n",
        "train_images = np.asarray([img_to_array(array_to_img(im, scale=False).resize((224,224))) for im in train_images])\n",
        "test_images = np.asarray([img_to_array(array_to_img(im, scale=False).resize((224,224))) for im in test_images])\n",
        "\n",
        "#Lets scale the images\n",
        "#train_images = train_images / 255.\n",
        "#test_images = test_images / 255.\n",
        "#train_images = train_images.astype('float32')\n",
        "#test_images = test_images.astype('float32')\n",
        "\n",
        "print('train_images : ', train_images.shape)\n",
        "print('test_images : ', test_images.shape)\n",
        "\n"
      ]
    },
    {
      "cell_type": "code",
      "source": [],
      "metadata": {
        "id": "wiePR4eE9xMX"
      },
      "execution_count": null,
      "outputs": []
    },
    {
      "cell_type": "code",
      "source": [
        "#Now lets try and use vgg16 algorithm and see if it predicts better\n",
        "from keras.applications.vgg16 import VGG16\n",
        "from keras.applications.vgg16 import preprocess_input\n",
        "\n",
        "from keras.utils.vis_utils import plot_model\n",
        "\n",
        "vgg16_base_model = VGG16(\n",
        "    weights = 'imagenet',\n",
        "    include_top = False,\n",
        "    input_shape = (224,224,3))\n",
        "\n",
        "inputs = keras.Input(shape=[224, 224, 3])\n",
        "x = preprocess_input(inputs)\n",
        "x = vgg16_base_model(x)\n",
        "x = layers.Flatten()(x)\n",
        "outputs = layers.Dense(10, activation = 'softmax')(x)\n",
        "model_with_vgg16_bottom = keras.Model(inputs, outputs)\n",
        "\n",
        "vgg16_base_model.trainable = False\n",
        "\n",
        "model_with_vgg16_bottom.compile(optimizer='adam',\n",
        "              loss='sparse_categorical_crossentropy',\n",
        "              metrics=['accuracy'])\n",
        "\n",
        "#model_with_vgg16_bottom.summary()\n",
        "#plot_model(model_with_vgg16_bottom)\n",
        "\n",
        "history = model_with_vgg16_bottom.fit(train_images, train_labels, epochs=10, validation_data = (test_images, test_labels))"
      ],
      "metadata": {
        "colab": {
          "base_uri": "https://localhost:8080/"
        },
        "id": "0OJTS8HEzMS2",
        "outputId": "0fd307dd-afec-47fc-b97f-c54fa26fecfd"
      },
      "execution_count": null,
      "outputs": [
        {
          "output_type": "stream",
          "name": "stdout",
          "text": [
            "Downloading data from https://storage.googleapis.com/tensorflow/keras-applications/vgg16/vgg16_weights_tf_dim_ordering_tf_kernels_notop.h5\n",
            "58892288/58889256 [==============================] - 0s 0us/step\n",
            "58900480/58889256 [==============================] - 0s 0us/step\n",
            "Epoch 1/10\n",
            "188/188 [==============================] - 49s 187ms/step - loss: 5.0612 - accuracy: 0.7703 - val_loss: 5.1203 - val_accuracy: 0.8100\n",
            "Epoch 2/10\n",
            "188/188 [==============================] - 33s 175ms/step - loss: 1.9645 - accuracy: 0.8985 - val_loss: 5.0893 - val_accuracy: 0.8280\n",
            "Epoch 3/10\n",
            "188/188 [==============================] - 33s 174ms/step - loss: 1.2609 - accuracy: 0.9245 - val_loss: 5.5629 - val_accuracy: 0.8180\n",
            "Epoch 4/10\n",
            "188/188 [==============================] - 33s 176ms/step - loss: 0.7158 - accuracy: 0.9493 - val_loss: 4.7864 - val_accuracy: 0.8360\n",
            "Epoch 5/10\n",
            "188/188 [==============================] - 33s 178ms/step - loss: 0.5443 - accuracy: 0.9637 - val_loss: 4.7286 - val_accuracy: 0.8570\n",
            "Epoch 6/10\n",
            "188/188 [==============================] - 33s 177ms/step - loss: 0.5976 - accuracy: 0.9623 - val_loss: 4.7217 - val_accuracy: 0.8590\n",
            "Epoch 7/10\n",
            "188/188 [==============================] - 34s 179ms/step - loss: 0.3026 - accuracy: 0.9772 - val_loss: 6.1207 - val_accuracy: 0.8440\n",
            "Epoch 8/10\n",
            "188/188 [==============================] - 34s 179ms/step - loss: 0.4781 - accuracy: 0.9715 - val_loss: 7.0975 - val_accuracy: 0.8210\n",
            "Epoch 9/10\n",
            "188/188 [==============================] - 34s 179ms/step - loss: 0.4926 - accuracy: 0.9712 - val_loss: 7.0873 - val_accuracy: 0.8390\n",
            "Epoch 10/10\n",
            "188/188 [==============================] - 34s 179ms/step - loss: 0.5116 - accuracy: 0.9680 - val_loss: 6.7741 - val_accuracy: 0.8510\n"
          ]
        }
      ]
    },
    {
      "cell_type": "code",
      "source": [
        "# plot the loss and accuracy\n",
        "\n",
        "acc = history.history['accuracy']\n",
        "val_acc = history.history['val_accuracy']\n",
        "loss = history.history['loss']\n",
        "val_loss = history.history['val_loss']\n",
        "epochs = range(1, len(acc) + 1)\n",
        "\n",
        "plt.title('Training and validation accuracy')\n",
        "plt.plot(epochs, acc, 'red', label='Training acc')\n",
        "plt.plot(epochs, val_acc, 'blue', label='Validation acc')\n",
        "plt.legend()\n",
        "\n",
        "plt.figure()\n",
        "plt.title('Training and validation loss')\n",
        "plt.plot(epochs, loss, 'red', label='Training loss')\n",
        "plt.plot(epochs, val_loss, 'blue', label='Validation loss')\n",
        "\n",
        "plt.legend()\n",
        "plt.show()"
      ],
      "metadata": {
        "colab": {
          "base_uri": "https://localhost:8080/",
          "height": 545
        },
        "id": "JimiU5839yWu",
        "outputId": "0d4a327e-c0aa-477f-aa55-ca9bec4347ec"
      },
      "execution_count": null,
      "outputs": [
        {
          "output_type": "display_data",
          "data": {
            "text/plain": [
              "<Figure size 432x288 with 1 Axes>"
            ],
            "image/png": "[encoded data removed]"
          },
          "metadata": {
            "needs_background": "light"
          }
        },
        {
          "output_type": "display_data",
          "data": {
            "text/plain": [
              "<Figure size 432x288 with 1 Axes>"
            ],
            "image/png": "[encoded data removed]"
          },
          "metadata": {
            "needs_background": "light"
          }
        }
      ]
    },
    {
      "cell_type": "code",
      "source": [
        "from sklearn.metrics import precision_score, recall_score, f1_score, confusion_matrix\n",
        "\n",
        "test_loss, test_acc = model_with_vgg16_bottom.evaluate(test_images, test_labels, verbose=0)\n",
        "\n",
        "y_pred = model_with_vgg16_bottom.predict(test_images,verbose=1)\n",
        "y_pred_value = np.argmax(y_pred, axis=1)\n",
        "\n",
        "# Print f1, precision, and recall scores\n",
        "print('Test Loss: ', test_loss)\n",
        "print('Test Accuracy: ', test_acc)\n",
        "print('Precision Score: ', precision_score(y_pred_value, test_labels , average=\"macro\"))\n",
        "print('Recall Score: ', recall_score(y_pred_value, test_labels , average=\"macro\"))\n",
        "print('F1 Score: ', f1_score(y_pred_value, test_labels , average=\"macro\"))\n",
        "print('Confusion Matrix \\n', confusion_matrix(y_pred_value, test_labels))"
      ],
      "metadata": {
        "colab": {
          "base_uri": "https://localhost:8080/"
        },
        "id": "CCUo1CNCU55p",
        "outputId": "a127b91b-fb90-4c6f-9108-9a126b14b7c6"
      },
      "execution_count": null,
      "outputs": [
        {
          "output_type": "stream",
          "name": "stdout",
          "text": [
            "32/32 [==============================] - 5s 150ms/step\n",
            "Test Loss:  6.774092674255371\n",
            "Test Accuracy:  0.8510000109672546\n",
            "Precision Score:  0.8524820681143188\n",
            "Recall Score:  0.8633787342709537\n",
            "F1 Score:  0.8549271593130932\n",
            "Confusion Matrix \n",
            " [[ 92   2   4  11   1   0  13   0   2   0]\n",
            " [  0 100   0   0   0   0   0   0   0   0]\n",
            " [  0   0  79   1   7   0   6   0   0   0]\n",
            " [  1   3   0  67   2   0   2   0   0   0]\n",
            " [  2   0  11   4  98   0  13   0   0   0]\n",
            " [  0   0   0   1   0  76   0   0   1   1]\n",
            " [ 12   0  17   9   7   0  63   0   0   0]\n",
            " [  0   0   0   0   0   8   0  94   1   3]\n",
            " [  0   0   0   0   0   1   0   0  91   0]\n",
            " [  0   0   0   0   0   2   0   1   0  91]]\n"
          ]
        }
      ]
    },
    {
      "cell_type": "code",
      "source": [],
      "metadata": {
        "id": "88vhbNKOVK5D"
      },
      "execution_count": null,
      "outputs": []
    }
  ]
}